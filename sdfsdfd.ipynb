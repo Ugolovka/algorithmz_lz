{
 "cells": [
  {
   "cell_type": "code",
   "execution_count": 42,
   "metadata": {},
   "outputs": [
    {
     "name": "stdout",
     "output_type": "stream",
     "text": [
      "17\n"
     ]
    }
   ],
   "source": [
    "from random import randint as ri\n",
    "\n",
    "list = []\n",
    "for i in range(0,100):\n",
    "    list.append(ri(0, 100_000))\n",
    "unsorted_list = list\n",
    "sorted_list = []\n",
    "\n",
    "while len(unsorted_list) > 0:\n",
    "    min = unsorted_list[0]\n",
    "    for i in range(0, len(unsorted_list)):\n",
    "        if unsorted_list[i] > min:\n",
    "            min = unsorted_list[i]\n",
    "    sorted_list.append(min)\n",
    "    unsorted_list.remove(min)\n",
    "aim  = 4567\n",
    "index = 0\n",
    "last = len(sorted_list)-1\n",
    "while (min <= last):\n",
    "    mid = (min+last)//2\n",
    "    if sorted_list[mid] == aim:\n",
    "        index = mid\n",
    "    else:\n",
    "        if aim<sorted_list[mid]:\n",
    "            last = mid -1\n",
    "        else:\n",
    "            min = mid +1\n",
    "print(mid)\n"
   ]
  }
 ],
 "metadata": {
  "kernelspec": {
   "display_name": "Python 3",
   "language": "python",
   "name": "python3"
  },
  "language_info": {
   "codemirror_mode": {
    "name": "ipython",
    "version": 3
   },
   "file_extension": ".py",
   "mimetype": "text/x-python",
   "name": "python",
   "nbconvert_exporter": "python",
   "pygments_lexer": "ipython3",
   "version": "3.12.3"
  }
 },
 "nbformat": 4,
 "nbformat_minor": 2
}
